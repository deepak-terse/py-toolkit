{
 "cells": [
  {
   "cell_type": "code",
   "execution_count": 1,
   "id": "d4212c5f-399c-45a2-87db-22e0acd1a704",
   "metadata": {},
   "outputs": [
    {
     "name": "stdout",
     "output_type": "stream",
     "text": [
      "Note: you may need to restart the kernel to use updated packages.\n",
      "Requirement already satisfied: python-dotenv in ./.venv_jupyter/lib/python3.10/site-packages (1.1.0)\n",
      "Note: you may need to restart the kernel to use updated packages.\n"
     ]
    }
   ],
   "source": [
    "# Installations\n",
    "%pip install -q -U google-generativeai\n",
    "%pip install python-dotenv"
   ]
  },
  {
   "cell_type": "code",
   "execution_count": 2,
   "id": "df4a24f3-4110-44df-9477-c93b6896c0e5",
   "metadata": {},
   "outputs": [],
   "source": [
    "# Setup\n",
    "import google.generativeai as genai\n",
    "import os\n",
    "from dotenv import load_dotenv\n",
    "\n",
    "load_dotenv()\n",
    "\n",
    "genai.configure(api_key=os.getenv('GOOGLE_API_KEY'))"
   ]
  },
  {
   "cell_type": "code",
   "execution_count": 3,
   "id": "6d6e2c94-b68a-4761-9b30-7bf921a604e3",
   "metadata": {},
   "outputs": [
    {
     "name": "stdout",
     "output_type": "stream",
     "text": [
      "model_info.input_token_limit=1000000\n",
      "model_info.output_token_limit=8192\n"
     ]
    }
   ],
   "source": [
    "# Choose AI model\n",
    "model = genai.GenerativeModel(\"gemini-1.5-flash\")\n",
    "model_info = genai.get_model(\"models/gemini-1.5-flash\")\n",
    "print(f\"{model_info.input_token_limit=}\")\n",
    "print(f\"{model_info.output_token_limit=}\")"
   ]
  },
  {
   "cell_type": "code",
   "execution_count": 4,
   "id": "061ca63b-ed1c-4cce-8135-69237fd1f2e6",
   "metadata": {},
   "outputs": [],
   "source": [
    "# Add prompt\n",
    "prompt = \"Generate a quote for the day\""
   ]
  },
  {
   "cell_type": "code",
   "execution_count": 5,
   "id": "2b9b1f74-dd97-4a5c-b16b-ea4786bbd158",
   "metadata": {},
   "outputs": [
    {
     "name": "stdout",
     "output_type": "stream",
     "text": [
      "\"The only way to do great work is to love what you do. If you haven't found it yet, keep looking. Don't settle.\" - Steve Jobs\n",
      "\n"
     ]
    }
   ],
   "source": [
    "# Generate response\n",
    "response = model.generate_content(prompt)\n",
    "print(response.text)"
   ]
  },
  {
   "cell_type": "code",
   "execution_count": 6,
   "id": "b4628fbc-afd4-45cd-9496-998d704512a0",
   "metadata": {},
   "outputs": [
    {
     "name": "stdout",
     "output_type": "stream",
     "text": [
      "input_tokens:  total_tokens: 6\n",
      "\n",
      "output_tokens:  total_tokens: 36\n",
      "\n"
     ]
    }
   ],
   "source": [
    "# Request metadata\n",
    "print(\"input_tokens: \", model.count_tokens(prompt))\n",
    "print(\"output_tokens: \", model.count_tokens(response.text))"
   ]
  },
  {
   "cell_type": "code",
   "execution_count": null,
   "id": "0549cf3b-cc25-4850-b041-f91fc77cf059",
   "metadata": {},
   "outputs": [],
   "source": []
  }
 ],
 "metadata": {
  "kernelspec": {
   "display_name": "Python 3 (ipykernel)",
   "language": "python",
   "name": "python3"
  },
  "language_info": {
   "codemirror_mode": {
    "name": "ipython",
    "version": 3
   },
   "file_extension": ".py",
   "mimetype": "text/x-python",
   "name": "python",
   "nbconvert_exporter": "python",
   "pygments_lexer": "ipython3",
   "version": "3.10.17"
  }
 },
 "nbformat": 4,
 "nbformat_minor": 5
}
